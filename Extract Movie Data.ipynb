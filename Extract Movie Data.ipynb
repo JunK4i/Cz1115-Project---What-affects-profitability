{
 "cells": [
  {
   "cell_type": "code",
   "execution_count": 1,
   "metadata": {},
   "outputs": [],
   "source": [
    "#let's import all the packages we need\n",
    "#requests: package used to query API and get the result back in Python\n",
    "#json: package used to read and convert JSON format\n",
    "#csv: package used to read and write csv\n",
    "import requests,json,csv,os\n",
    "import pandas as pd\n",
    "import traceback"
   ]
  },
  {
   "cell_type": "code",
   "execution_count": 2,
   "metadata": {},
   "outputs": [],
   "source": [
    "#Get movie ID from discover movies(popularity descending)\n",
    "def get_ID(API_key, page):\n",
    "    query = 'https://api.themoviedb.org/3/discover/movie?api_key='+API_key+'&language=en-US&sort_by=popularity.desc&include_video=false&page='+str(page)\n",
    "    #Retrieve popularity descending 500 pages of MovieID data.\n",
    "    response =  requests.get(query)\n",
    "    if response.status_code==200: \n",
    "    #status code ==200 indicates the API query was successful\n",
    "        array = response.json()\n",
    "        return (array)\n",
    "    else:\n",
    "        return (\"error\")"
   ]
  },
  {
   "cell_type": "code",
   "execution_count": 3,
   "metadata": {},
   "outputs": [],
   "source": [
    "#extract movie data as JSON\n",
    "#Get movie data using Movie ID\n",
    "def get_data(API_key, Movie_ID):\n",
    "    query = 'https://api.themoviedb.org/3/movie/'+str(Movie_ID)+'?api_key='+API_key+'&language=en-US'\n",
    "    #alters the movie id and api key for the url to retrieve the json data\n",
    "    response =  requests.get(query)\n",
    "    if response.status_code==200: \n",
    "    #status code ==200 indicates the API query was successful\n",
    "        array = response.json()\n",
    "        text = json.dumps(array)\n",
    "        return (text)\n",
    "    else:\n",
    "        return (\"error\")"
   ]
  },
  {
   "cell_type": "code",
   "execution_count": 4,
   "metadata": {},
   "outputs": [],
   "source": [
    "#unpack JSON into csv file\n",
    "def write_file(filename, text):\n",
    "    dataset = json.loads(text)\n",
    "    csvFile = open(filename,'a', encoding='utf-8') #\"a\" - Append - Opens a file for appending, creates the file if it does not exist\n",
    "    csvwriter = csv.writer(csvFile)\n",
    "    try:\n",
    "        #create a List from a dictionary under dataset['genres']\n",
    "        genre_list = [x['name'] for x in dataset['genres']]\n",
    "        production_company_list = [[x['name'],x['origin_country']] for x in dataset ['production_companies']] \n",
    "        production_country_list = [x['iso_3166_1'] for x in dataset['production_countries']]\n",
    "        spoken_languages_list = [x['iso_639_1'] for x in dataset['spoken_languages']]\n",
    "    except Exception:\n",
    "        traceback.print_exc()\n",
    "      \n",
    "    result = [dataset['original_title'],dataset['adult'],genre_list,dataset['budget'],dataset['popularity'],dataset['vote_average'],dataset['vote_count'],dataset['overview'],dataset['tagline'],dataset['revenue'],dataset['release_date'],dataset['runtime'],dataset['original_language'],production_company_list,production_country_list,spoken_languages_list]\n",
    "    # write data\n",
    "    csvwriter.writerow(result)\n",
    "    csvFile.close()"
   ]
  },
  {
   "cell_type": "code",
   "execution_count": 8,
   "metadata": {
    "scrolled": true
   },
   "outputs": [
    {
     "name": "stdout",
     "output_type": "stream",
     "text": [
      "movie list done\n",
      "\n",
      "0\n",
      "1\n",
      "2\n",
      "3\n",
      "4\n",
      "5\n",
      "6\n",
      "7\n",
      "8\n",
      "9\n",
      "10\n",
      "11\n",
      "12\n",
      "13\n",
      "14\n",
      "15\n",
      "16\n",
      "17\n",
      "18\n",
      "19\n"
     ]
    }
   ],
   "source": [
    "API_key = '33ba1424b719f150de8c4fdadc59f164'\n",
    "Movie_ID = '464052' #wonderwoman\n",
    "i=0\n",
    "\n",
    "#Since getting data using individual Movie ID gives us the most data, \n",
    "#compared to getting data from a list of movies\n",
    "#I extract 500 pages of movie ID from the most popular movies, and extract data \n",
    "#using a for-loop to write into the csv file for each get_data\n",
    "\n",
    "page = [x for x in range(500,501)]\n",
    "movie_id_list = []   \n",
    "for p in page:\n",
    "    Data = get_ID(API_key,p)\n",
    "    if Data == \"error\":\n",
    "        print(\"error\")\n",
    "    for y in Data[\"results\"]:\n",
    "        movie_id_list.append(y[\"id\"])\n",
    "print(\"movie list done\\n\")\n",
    "\n",
    "#write header to the file\n",
    "#creating the csv File with headers and name\n",
    "csvFile = open('movie_collection_data_3.csv','a')\n",
    "csvwriter = csv.writer(csvFile)\n",
    "csvwriter.writerow(['Movie_name','Adult','GenreList','Budget','Popularity','VoteAvg','VoteCount','Overview','Tagline','Revenue','ReleaseDate','Runtime','OriginalLanguage', 'ProductionCompany','ProductionCountry','SpokenLanguage'])\n",
    "csvFile.close()\n",
    "\n",
    "for movie in movie_id_list:\n",
    "    text = get_data(API_key, movie)\n",
    "    #make sure your process breaks when the pull was not successful \n",
    "    #it's easier to debug this way\n",
    "    if text == \"error\":\n",
    "        break\n",
    "    write_file('movie_collection_data_3.csv', text) #update csv\n",
    "    print(str(i)) #to see status of data pull\n",
    "    i +=1\n",
    "    "
   ]
  },
  {
   "cell_type": "code",
   "execution_count": null,
   "metadata": {},
   "outputs": [],
   "source": [
    "\n"
   ]
  },
  {
   "cell_type": "code",
   "execution_count": null,
   "metadata": {},
   "outputs": [],
   "source": []
  },
  {
   "cell_type": "code",
   "execution_count": null,
   "metadata": {},
   "outputs": [],
   "source": []
  }
 ],
 "metadata": {
  "kernelspec": {
   "display_name": "Python 3",
   "language": "python",
   "name": "python3"
  },
  "language_info": {
   "codemirror_mode": {
    "name": "ipython",
    "version": 3
   },
   "file_extension": ".py",
   "mimetype": "text/x-python",
   "name": "python",
   "nbconvert_exporter": "python",
   "pygments_lexer": "ipython3",
   "version": "3.7.4"
  }
 },
 "nbformat": 4,
 "nbformat_minor": 2
}
