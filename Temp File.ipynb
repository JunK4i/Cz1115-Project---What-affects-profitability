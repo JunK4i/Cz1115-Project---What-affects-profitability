{
 "cells": [
  {
   "cell_type": "markdown",
   "metadata": {},
   "source": [
    "## Categorical Data"
   ]
  },
  {
   "cell_type": "code",
   "execution_count": null,
   "metadata": {},
   "outputs": [],
   "source": []
  },
  {
   "cell_type": "code",
   "execution_count": 147,
   "metadata": {
    "scrolled": true
   },
   "outputs": [],
   "source": [
    "Genre = Movie_CleanedData.set_index('Movie_name').GenreList.apply(pd.Series).stack()\n",
    "Genre = pd.get_dummies(Genre).groupby(level=0).sum()\n",
    "Genre = Genre.replace(0,np.nan)\n",
    "Movie_CleanedData = Movie_CleanedData.set_index('Movie_name')\n",
    "Genre['Profit'] = Movie_CleanedData.Profit\n",
    "Genre['Year'] = Movie_CleanedData.Year"
   ]
  },
  {
   "cell_type": "code",
   "execution_count": null,
   "metadata": {},
   "outputs": [],
   "source": [
    "hi"
   ]
  }
 ],
 "metadata": {
  "kernelspec": {
   "display_name": "Python 3",
   "language": "python",
   "name": "python3"
  },
  "language_info": {
   "codemirror_mode": {
    "name": "ipython",
    "version": 3
   },
   "file_extension": ".py",
   "mimetype": "text/x-python",
   "name": "python",
   "nbconvert_exporter": "python",
   "pygments_lexer": "ipython3",
   "version": "3.7.4"
  }
 },
 "nbformat": 4,
 "nbformat_minor": 2
}
