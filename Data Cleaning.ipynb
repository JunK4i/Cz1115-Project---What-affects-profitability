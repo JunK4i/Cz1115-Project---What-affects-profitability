{
 "cells": [
  {
   "cell_type": "code",
   "execution_count": 1,
   "metadata": {},
   "outputs": [],
   "source": [
    "import numpy as np\n",
    "import pandas as pd\n",
    "import seaborn as sb\n",
    "import matplotlib.pyplot as plt\n",
    "from statistics import mean, median, mode, stdev"
   ]
  },
  {
   "cell_type": "code",
   "execution_count": 2,
   "metadata": {},
   "outputs": [],
   "source": [
    "Movie = pd.read_csv('movie_collection_data.csv',na_filter=True, na_values='[]')\n"
   ]
  },
  {
   "cell_type": "markdown",
   "metadata": {},
   "source": [
    "# Dropping invalid Data"
   ]
  },
  {
   "cell_type": "code",
   "execution_count": 9,
   "metadata": {},
   "outputs": [
    {
     "name": "stdout",
     "output_type": "stream",
     "text": [
      "<class 'pandas.core.frame.DataFrame'>\n",
      "RangeIndex: 4111 entries, 0 to 4110\n",
      "Data columns (total 16 columns):\n",
      " #   Column             Non-Null Count  Dtype  \n",
      "---  ------             --------------  -----  \n",
      " 0   Movie_name         4111 non-null   object \n",
      " 1   Adult              4111 non-null   bool   \n",
      " 2   GenreList          4111 non-null   object \n",
      " 3   Budget             4111 non-null   int64  \n",
      " 4   Popularity         4111 non-null   float64\n",
      " 5   VoteAvg            4111 non-null   float64\n",
      " 6   VoteCount          4111 non-null   int64  \n",
      " 7   Overview           4111 non-null   object \n",
      " 8   Tagline            3845 non-null   object \n",
      " 9   Revenue            4111 non-null   int64  \n",
      " 10  ReleaseDate        4111 non-null   object \n",
      " 11  Runtime            4111 non-null   float64\n",
      " 12  OriginalLanguage   4111 non-null   object \n",
      " 13  ProductionCompany  4111 non-null   object \n",
      " 14  ProductionCountry  4111 non-null   object \n",
      " 15  SpokenLanguage     4111 non-null   object \n",
      "dtypes: bool(1), float64(3), int64(3), object(9)\n",
      "memory usage: 485.9+ KB\n"
     ]
    }
   ],
   "source": [
    "## Drop INVALID DATA\n",
    "Movie_CleanedData = Movie[~(Movie['Budget']<281)]\n",
    "Movie_CleanedData = Movie_CleanedData[~(Movie_CleanedData['Revenue']==0)]\n",
    "Movie_CleanedData = Movie_CleanedData.dropna(subset=['ReleaseDate','SpokenLanguage','ProductionCompany','ProductionCountry','GenreList'])\n",
    "Movie_CleanedData.drop_duplicates(subset=\"Movie_name\",keep=False, inplace =True)\n",
    "Movie_CleanedData.index = pd.RangeIndex(len(Movie_CleanedData.index))\n",
    "Movie_CleanedData.index = range(len(Movie_CleanedData.index))\n",
    "Movie_CleanedData.info()\n"
   ]
  },
  {
   "cell_type": "markdown",
   "metadata": {},
   "source": [
    "## Calculate and Insert Profit Variable"
   ]
  },
  {
   "cell_type": "code",
   "execution_count": null,
   "metadata": {},
   "outputs": [],
   "source": [
    "\n",
    "Profit=[]\n",
    "for i in range(len(Movie_CleanedData)):\n",
    "    Profit.append(Movie_CleanedData.iloc[i,3]-Movie_CleanedData.iloc[i,9])\n",
    "Movie_CleanedData.insert(10,\"Profit\",Profit,True)"
   ]
  },
  {
   "cell_type": "markdown",
   "metadata": {},
   "source": [
    "## Create new column for release year and month"
   ]
  },
  {
   "cell_type": "code",
   "execution_count": null,
   "metadata": {
    "scrolled": true
   },
   "outputs": [],
   "source": [
    "\n",
    "Movie_CleanedData['Year'] = pd.DatetimeIndex(Movie_CleanedData['ReleaseDate']).year\n",
    "Movie_CleanedData['Month'] = pd.DatetimeIndex(Movie_CleanedData['ReleaseDate']).month"
   ]
  },
  {
   "cell_type": "code",
   "execution_count": null,
   "metadata": {},
   "outputs": [],
   "source": [
    "Movie_CleanedData.describe()"
   ]
  },
  {
   "cell_type": "markdown",
   "metadata": {},
   "source": [
    "## Determine outliers\n"
   ]
  },
  {
   "cell_type": "code",
   "execution_count": null,
   "metadata": {
    "scrolled": false
   },
   "outputs": [],
   "source": [
    "\n",
    "Q1 = (int)(Movie_CleanedData.VoteCount.quantile(0.25)) \n",
    "Q3 = (int)(Movie_CleanedData.VoteCount.quantile(0.75))\n",
    "median = (int)(Movie_CleanedData.VoteCount.quantile(0.5))\n",
    "median_avg = (int)(Movie_CleanedData.VoteAvg.quantile(0.5))\n",
    "IQR = Q3 - Q1\n",
    "\n",
    "for i in range(len(Movie_CleanedData)): \n",
    "     if Movie_CleanedData.loc[i,'VoteCount']>(Q3 + 1.5 * IQR) or Movie_CleanedData.loc[i,'VoteCount']<(Q1 - 1.5 * IQR):\n",
    "        Movie_CleanedData.loc[i,'VoteCount']=median\n",
    "        Movie_CleanedData.loc[i,'VoteAvg'] = median_avg\n"
   ]
  },
  {
   "cell_type": "code",
   "execution_count": null,
   "metadata": {},
   "outputs": [],
   "source": []
  },
  {
   "cell_type": "markdown",
   "metadata": {},
   "source": [
    "## EXPLORATORY ANALYSIS"
   ]
  },
  {
   "cell_type": "code",
   "execution_count": null,
   "metadata": {},
   "outputs": [],
   "source": [
    "Movie_CleanedData.describe()"
   ]
  },
  {
   "cell_type": "code",
   "execution_count": null,
   "metadata": {},
   "outputs": [],
   "source": [
    "NumericData =pd.DataFrame(Movie_CleanedData[['Budget','Popularity','VoteAvg','VoteCount','Revenue','Profit','Runtime','Year','Month']])\n",
    "NumericData.head()"
   ]
  },
  {
   "cell_type": "code",
   "execution_count": null,
   "metadata": {
    "scrolled": false
   },
   "outputs": [],
   "source": [
    "f, axes = plt.subplots(9, 3, figsize=(36, 40))\n",
    "\n",
    "count = 0\n",
    "for var in NumericData:\n",
    "    sb.boxplot(data = NumericData[var], orient = \"h\", ax = axes[count,0])\n",
    "    sb.histplot(data = NumericData[var], ax = axes[count,1])\n",
    "    sb.violinplot(data = NumericData[var], orient = \"h\", ax = axes[count,2])\n",
    "    count += 1"
   ]
  },
  {
   "cell_type": "code",
   "execution_count": null,
   "metadata": {},
   "outputs": [],
   "source": [
    "\n",
    "# Correlation Matrix\n",
    "print(NumericData.corr())\n",
    "\n",
    "# Heatmap of the Correlation Matrix\n",
    "f = plt.figure(figsize=(12, 12))\n",
    "sb.heatmap(NumericData.corr(), vmin = -1, vmax = 1, linewidths = 1,\n",
    "           annot = True, fmt = \".2f\", annot_kws = {\"size\": 18}, cmap = \"RdBu\")"
   ]
  },
  {
   "cell_type": "code",
   "execution_count": null,
   "metadata": {},
   "outputs": [],
   "source": [
    "CategoricalData = pd.DataFrame(Movie_CleanedData[['Adult','GenreList','OriginalLanguage','ProductionCompany','ProductionCountry','SpokenLanguage']])"
   ]
  },
  {
   "cell_type": "code",
   "execution_count": null,
   "metadata": {},
   "outputs": [],
   "source": [
    "\n",
    "sb.pairplot(data = CategoricalData)\n",
    "\n",
    "CategoricalData = pd.CategoricalData(Movie_CleanedData[['Adult','GenreList','OriginalLanguage','ProductionCompany','ProductionCountry','SpokenLanguage']])\n",
    "CategoricalData.head()\n",
    "\n",
    "CategoricalData['MSSubClass'] = CategoricalData['MSSubClass'].astype('category')\n",
    "CategoricalData['Neighborhood'] = CategoricalData['Neighborhood'].astype('category')\n",
    "CategoricalData['BldgType'] = CategoricalData['BldgType'].astype('category')\n",
    "CategoricalData['OverallQual'] = CategoricalData['OverallQual'].astype('category')"
   ]
  },
  {
   "cell_type": "code",
   "execution_count": null,
   "metadata": {},
   "outputs": [],
   "source": []
  }
 ],
 "metadata": {
  "kernelspec": {
   "display_name": "Python 3",
   "language": "python",
   "name": "python3"
  },
  "language_info": {
   "codemirror_mode": {
    "name": "ipython",
    "version": 3
   },
   "file_extension": ".py",
   "mimetype": "text/x-python",
   "name": "python",
   "nbconvert_exporter": "python",
   "pygments_lexer": "ipython3",
   "version": "3.7.6"
  }
 },
 "nbformat": 4,
 "nbformat_minor": 2
}
