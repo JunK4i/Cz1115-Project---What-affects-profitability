{
 "cells": [
  {
   "cell_type": "code",
   "execution_count": 1,
   "metadata": {},
   "outputs": [],
   "source": [
    "import numpy as np\n",
    "import pandas as pd\n",
    "import seaborn as sb\n",
    "import matplotlib.pyplot as plt"
   ]
  },
  {
   "cell_type": "code",
   "execution_count": 2,
   "metadata": {},
   "outputs": [
    {
     "data": {
      "text/html": [
       "<div>\n",
       "<style scoped>\n",
       "    .dataframe tbody tr th:only-of-type {\n",
       "        vertical-align: middle;\n",
       "    }\n",
       "\n",
       "    .dataframe tbody tr th {\n",
       "        vertical-align: top;\n",
       "    }\n",
       "\n",
       "    .dataframe thead th {\n",
       "        text-align: right;\n",
       "    }\n",
       "</style>\n",
       "<table border=\"1\" class=\"dataframe\">\n",
       "  <thead>\n",
       "    <tr style=\"text-align: right;\">\n",
       "      <th></th>\n",
       "      <th>Movie_name</th>\n",
       "      <th>Adult</th>\n",
       "      <th>GenreList</th>\n",
       "      <th>Budget</th>\n",
       "      <th>Popularity</th>\n",
       "      <th>VoteAvg</th>\n",
       "      <th>VoteCount</th>\n",
       "      <th>Overview</th>\n",
       "      <th>Tagline</th>\n",
       "      <th>Revenue</th>\n",
       "      <th>ReleaseDate</th>\n",
       "      <th>Runtime</th>\n",
       "      <th>OriginalLanguage</th>\n",
       "      <th>ProductionCompany</th>\n",
       "      <th>ProductionCountry</th>\n",
       "      <th>SpokenLanguage</th>\n",
       "    </tr>\n",
       "  </thead>\n",
       "  <tbody>\n",
       "    <tr>\n",
       "      <th>0</th>\n",
       "      <td>Godzilla vs. Kong</td>\n",
       "      <td>False</td>\n",
       "      <td>['Action', 'Science Fiction']</td>\n",
       "      <td>200000000</td>\n",
       "      <td>15798.548</td>\n",
       "      <td>8.5</td>\n",
       "      <td>3622</td>\n",
       "      <td>In a time when monsters walk the Earth, humani...</td>\n",
       "      <td>One Will Fall</td>\n",
       "      <td>285400000</td>\n",
       "      <td>2021-03-24</td>\n",
       "      <td>113.0</td>\n",
       "      <td>en</td>\n",
       "      <td>[['Warner Bros. Pictures', 'US'], ['Legendary ...</td>\n",
       "      <td>['US']</td>\n",
       "      <td>['en']</td>\n",
       "    </tr>\n",
       "    <tr>\n",
       "      <th>1</th>\n",
       "      <td>Zack Snyder's Justice League</td>\n",
       "      <td>False</td>\n",
       "      <td>['Action', 'Adventure', 'Fantasy', 'Science Fi...</td>\n",
       "      <td>70000000</td>\n",
       "      <td>5584.041</td>\n",
       "      <td>8.6</td>\n",
       "      <td>4557</td>\n",
       "      <td>Determined to ensure Superman's ultimate sacri...</td>\n",
       "      <td>NaN</td>\n",
       "      <td>0</td>\n",
       "      <td>2021-03-18</td>\n",
       "      <td>242.0</td>\n",
       "      <td>en</td>\n",
       "      <td>[['Warner Bros. Pictures', 'US'], ['The Stone ...</td>\n",
       "      <td>['US']</td>\n",
       "      <td>['en']</td>\n",
       "    </tr>\n",
       "    <tr>\n",
       "      <th>2</th>\n",
       "      <td>Raya and the Last Dragon</td>\n",
       "      <td>False</td>\n",
       "      <td>['Animation', 'Adventure', 'Fantasy', 'Family'...</td>\n",
       "      <td>0</td>\n",
       "      <td>2961.537</td>\n",
       "      <td>8.3</td>\n",
       "      <td>2066</td>\n",
       "      <td>Long ago, in the fantasy world of Kumandra, hu...</td>\n",
       "      <td>A quest to save her world.</td>\n",
       "      <td>56482606</td>\n",
       "      <td>2021-03-03</td>\n",
       "      <td>107.0</td>\n",
       "      <td>en</td>\n",
       "      <td>[['Walt Disney Pictures', 'US'], ['Walt Disney...</td>\n",
       "      <td>['US']</td>\n",
       "      <td>['en']</td>\n",
       "    </tr>\n",
       "    <tr>\n",
       "      <th>3</th>\n",
       "      <td>Wonder Woman 1984</td>\n",
       "      <td>False</td>\n",
       "      <td>['Fantasy', 'Action', 'Adventure']</td>\n",
       "      <td>200000000</td>\n",
       "      <td>1818.337</td>\n",
       "      <td>6.8</td>\n",
       "      <td>4695</td>\n",
       "      <td>A botched store robbery places Wonder Woman in...</td>\n",
       "      <td>A new era of wonder begins.</td>\n",
       "      <td>165160000</td>\n",
       "      <td>2020-12-16</td>\n",
       "      <td>151.0</td>\n",
       "      <td>en</td>\n",
       "      <td>[['DC Entertainment', 'US'], ['Warner Bros. Pi...</td>\n",
       "      <td>['US']</td>\n",
       "      <td>['en']</td>\n",
       "    </tr>\n",
       "    <tr>\n",
       "      <th>4</th>\n",
       "      <td>Monster Hunter</td>\n",
       "      <td>False</td>\n",
       "      <td>['Fantasy', 'Action', 'Adventure']</td>\n",
       "      <td>60000000</td>\n",
       "      <td>1701.854</td>\n",
       "      <td>7.1</td>\n",
       "      <td>1368</td>\n",
       "      <td>A portal transports Cpt. Artemis and an elite ...</td>\n",
       "      <td>Behind our world, there is another.</td>\n",
       "      <td>25814306</td>\n",
       "      <td>2020-12-03</td>\n",
       "      <td>104.0</td>\n",
       "      <td>en</td>\n",
       "      <td>[['CAPCOM', 'JP'], ['Constantin Film', 'DE'], ...</td>\n",
       "      <td>['DE', 'CA', 'CN', 'US', 'JP']</td>\n",
       "      <td>['en']</td>\n",
       "    </tr>\n",
       "  </tbody>\n",
       "</table>\n",
       "</div>"
      ],
      "text/plain": [
       "                     Movie_name  Adult  \\\n",
       "0             Godzilla vs. Kong  False   \n",
       "1  Zack Snyder's Justice League  False   \n",
       "2      Raya and the Last Dragon  False   \n",
       "3             Wonder Woman 1984  False   \n",
       "4                Monster Hunter  False   \n",
       "\n",
       "                                           GenreList     Budget  Popularity  \\\n",
       "0                      ['Action', 'Science Fiction']  200000000   15798.548   \n",
       "1  ['Action', 'Adventure', 'Fantasy', 'Science Fi...   70000000    5584.041   \n",
       "2  ['Animation', 'Adventure', 'Fantasy', 'Family'...          0    2961.537   \n",
       "3                 ['Fantasy', 'Action', 'Adventure']  200000000    1818.337   \n",
       "4                 ['Fantasy', 'Action', 'Adventure']   60000000    1701.854   \n",
       "\n",
       "   VoteAvg  VoteCount                                           Overview  \\\n",
       "0      8.5       3622  In a time when monsters walk the Earth, humani...   \n",
       "1      8.6       4557  Determined to ensure Superman's ultimate sacri...   \n",
       "2      8.3       2066  Long ago, in the fantasy world of Kumandra, hu...   \n",
       "3      6.8       4695  A botched store robbery places Wonder Woman in...   \n",
       "4      7.1       1368  A portal transports Cpt. Artemis and an elite ...   \n",
       "\n",
       "                               Tagline    Revenue ReleaseDate  Runtime  \\\n",
       "0                        One Will Fall  285400000  2021-03-24    113.0   \n",
       "1                                  NaN          0  2021-03-18    242.0   \n",
       "2           A quest to save her world.   56482606  2021-03-03    107.0   \n",
       "3          A new era of wonder begins.  165160000  2020-12-16    151.0   \n",
       "4  Behind our world, there is another.   25814306  2020-12-03    104.0   \n",
       "\n",
       "  OriginalLanguage                                  ProductionCompany  \\\n",
       "0               en  [['Warner Bros. Pictures', 'US'], ['Legendary ...   \n",
       "1               en  [['Warner Bros. Pictures', 'US'], ['The Stone ...   \n",
       "2               en  [['Walt Disney Pictures', 'US'], ['Walt Disney...   \n",
       "3               en  [['DC Entertainment', 'US'], ['Warner Bros. Pi...   \n",
       "4               en  [['CAPCOM', 'JP'], ['Constantin Film', 'DE'], ...   \n",
       "\n",
       "                ProductionCountry SpokenLanguage  \n",
       "0                          ['US']         ['en']  \n",
       "1                          ['US']         ['en']  \n",
       "2                          ['US']         ['en']  \n",
       "3                          ['US']         ['en']  \n",
       "4  ['DE', 'CA', 'CN', 'US', 'JP']         ['en']  "
      ]
     },
     "execution_count": 2,
     "metadata": {},
     "output_type": "execute_result"
    }
   ],
   "source": [
    "Movie = pd.read_csv('movie_collection_data.csv')\n"
   ]
  },
  {
   "cell_type": "code",
   "execution_count": 3,
   "metadata": {},
   "outputs": [
    {
     "name": "stdout",
     "output_type": "stream",
     "text": [
      "<class 'pandas.core.frame.DataFrame'>\n",
      "RangeIndex: 9738 entries, 0 to 9737\n",
      "Data columns (total 16 columns):\n",
      " #   Column             Non-Null Count  Dtype  \n",
      "---  ------             --------------  -----  \n",
      " 0   Movie_name         9738 non-null   object \n",
      " 1   Adult              9738 non-null   bool   \n",
      " 2   GenreList          9738 non-null   object \n",
      " 3   Budget             9738 non-null   int64  \n",
      " 4   Popularity         9738 non-null   float64\n",
      " 5   VoteAvg            9738 non-null   float64\n",
      " 6   VoteCount          9738 non-null   int64  \n",
      " 7   Overview           9657 non-null   object \n",
      " 8   Tagline            7065 non-null   object \n",
      " 9   Revenue            9738 non-null   int64  \n",
      " 10  ReleaseDate        9705 non-null   object \n",
      " 11  Runtime            9724 non-null   float64\n",
      " 12  OriginalLanguage   9738 non-null   object \n",
      " 13  ProductionCompany  9738 non-null   object \n",
      " 14  ProductionCountry  9738 non-null   object \n",
      " 15  SpokenLanguage     9738 non-null   object \n",
      "dtypes: bool(1), float64(3), int64(3), object(9)\n",
      "memory usage: 1.1+ MB\n"
     ]
    }
   ],
   "source": []
  },
  {
   "cell_type": "code",
   "execution_count": 23,
   "metadata": {},
   "outputs": [
    {
     "name": "stdout",
     "output_type": "stream",
     "text": [
      "<class 'pandas.core.frame.DataFrame'>\n",
      "Int64Index: 4287 entries, 0 to 9731\n",
      "Data columns (total 16 columns):\n",
      " #   Column             Non-Null Count  Dtype  \n",
      "---  ------             --------------  -----  \n",
      " 0   Movie_name         4287 non-null   object \n",
      " 1   Adult              4287 non-null   bool   \n",
      " 2   GenreList          4287 non-null   object \n",
      " 3   Budget             4287 non-null   int64  \n",
      " 4   Popularity         4287 non-null   float64\n",
      " 5   VoteAvg            4287 non-null   float64\n",
      " 6   VoteCount          4287 non-null   int64  \n",
      " 7   Overview           4287 non-null   object \n",
      " 8   Tagline            4015 non-null   object \n",
      " 9   Revenue            4287 non-null   int64  \n",
      " 10  ReleaseDate        4287 non-null   object \n",
      " 11  Runtime            4287 non-null   float64\n",
      " 12  OriginalLanguage   4287 non-null   object \n",
      " 13  ProductionCompany  4287 non-null   object \n",
      " 14  ProductionCountry  4287 non-null   object \n",
      " 15  SpokenLanguage     4287 non-null   object \n",
      "dtypes: bool(1), float64(3), int64(3), object(9)\n",
      "memory usage: 540.1+ KB\n"
     ]
    }
   ],
   "source": [
    "## Drop INVALID DATA\n",
    "Movie_CleanedData = Movie[~(Movie['Budget']<281)]\n",
    "Movie_CleanedData = Movie_CleanedData[~(Movie_CleanedData['Revenue']==0)]\n",
    "Movie_CleanedData.dropna(subset=['ReleaseDate'])\n",
    "Movie_CleanedData.drop_duplicates(subset=\"Movie_name\")\n",
    "Movie_CleanedData.info()"
   ]
  },
  {
   "cell_type": "code",
   "execution_count": 24,
   "metadata": {},
   "outputs": [
    {
     "data": {
      "text/plain": [
       "Movie_name           4203\n",
       "Adult                   1\n",
       "GenreList            1262\n",
       "Budget                498\n",
       "Popularity           3946\n",
       "VoteAvg                55\n",
       "VoteCount            2768\n",
       "Overview             4287\n",
       "Tagline              4002\n",
       "Revenue              4205\n",
       "ReleaseDate          3236\n",
       "Runtime               145\n",
       "OriginalLanguage       28\n",
       "ProductionCompany    3719\n",
       "ProductionCountry     453\n",
       "SpokenLanguage        554\n",
       "dtype: int64"
      ]
     },
     "execution_count": 24,
     "metadata": {},
     "output_type": "execute_result"
    }
   ],
   "source": [
    "Movie_CleanedData.nunique()"
   ]
  },
  {
   "cell_type": "code",
   "execution_count": 5,
   "metadata": {},
   "outputs": [],
   "source": [
    "Profit=[]\n",
    "for i in range(len(Movie_RemovedRevenue)):\n",
    "    Profit.append(Movie_RemovedRevenue.iloc[i,3]-Movie_RemovedRevenue.iloc[i,9])\n",
    "Movie_RemovedRevenue.insert(10,\"Profit\",Profit,True)"
   ]
  },
  {
   "cell_type": "code",
   "execution_count": 6,
   "metadata": {},
   "outputs": [],
   "source": []
  },
  {
   "cell_type": "code",
   "execution_count": 7,
   "metadata": {
    "scrolled": true
   },
   "outputs": [],
   "source": []
  },
  {
   "cell_type": "code",
   "execution_count": 17,
   "metadata": {
    "scrolled": false
   },
   "outputs": [
    {
     "name": "stdout",
     "output_type": "stream",
     "text": [
      "<class 'pandas.core.frame.DataFrame'>\n",
      "Int64Index: 4287 entries, 0 to 9731\n",
      "Data columns (total 19 columns):\n",
      " #   Column             Non-Null Count  Dtype  \n",
      "---  ------             --------------  -----  \n",
      " 0   Movie_name         4287 non-null   object \n",
      " 1   Adult              4287 non-null   bool   \n",
      " 2   GenreList          4287 non-null   object \n",
      " 3   Budget             4287 non-null   int64  \n",
      " 4   Popularity         4287 non-null   float64\n",
      " 5   VoteAvg            4287 non-null   float64\n",
      " 6   VoteCount          4287 non-null   int64  \n",
      " 7   Overview           4287 non-null   object \n",
      " 8   Tagline            4015 non-null   object \n",
      " 9   Revenue            4287 non-null   int64  \n",
      " 10  Profit             4287 non-null   int64  \n",
      " 11  ReleaseDate        4287 non-null   object \n",
      " 12  Runtime            4287 non-null   float64\n",
      " 13  OriginalLanguage   4287 non-null   object \n",
      " 14  ProductionCompany  4287 non-null   object \n",
      " 15  ProductionCountry  4287 non-null   object \n",
      " 16  SpokenLanguage     4287 non-null   object \n",
      " 17  Year               4287 non-null   int64  \n",
      " 18  Month              4287 non-null   int64  \n",
      "dtypes: bool(1), float64(3), int64(6), object(9)\n",
      "memory usage: 800.5+ KB\n"
     ]
    }
   ],
   "source": [
    "Profit=Movie_RemovedRevenue\n",
    "Profit.info()"
   ]
  },
  {
   "cell_type": "code",
   "execution_count": null,
   "metadata": {},
   "outputs": [],
   "source": []
  },
  {
   "cell_type": "code",
   "execution_count": 16,
   "metadata": {},
   "outputs": [
    {
     "name": "stderr",
     "output_type": "stream",
     "text": [
      "C:\\Users\\huang\\anaconda3\\lib\\site-packages\\ipykernel_launcher.py:2: SettingWithCopyWarning: \n",
      "A value is trying to be set on a copy of a slice from a DataFrame.\n",
      "Try using .loc[row_indexer,col_indexer] = value instead\n",
      "\n",
      "See the caveats in the documentation: https://pandas.pydata.org/pandas-docs/stable/user_guide/indexing.html#returning-a-view-versus-a-copy\n",
      "  \n",
      "C:\\Users\\huang\\anaconda3\\lib\\site-packages\\ipykernel_launcher.py:3: SettingWithCopyWarning: \n",
      "A value is trying to be set on a copy of a slice from a DataFrame.\n",
      "Try using .loc[row_indexer,col_indexer] = value instead\n",
      "\n",
      "See the caveats in the documentation: https://pandas.pydata.org/pandas-docs/stable/user_guide/indexing.html#returning-a-view-versus-a-copy\n",
      "  This is separate from the ipykernel package so we can avoid doing imports until\n"
     ]
    }
   ],
   "source": [
    "Movie_RemovedRevenue.dropna(subset=['ReleaseDate'])\n",
    "Movie_RemovedRevenue['Year'] = pd.DatetimeIndex(Movie_RemovedRevenue['ReleaseDate']).year\n",
    "Movie_RemovedRevenue['Month'] = pd.DatetimeIndex(Movie_RemovedRevenue['ReleaseDate']).month"
   ]
  },
  {
   "cell_type": "code",
   "execution_count": 10,
   "metadata": {},
   "outputs": [
    {
     "name": "stdout",
     "output_type": "stream",
     "text": [
      "<class 'pandas.core.frame.DataFrame'>\n",
      "Int64Index: 4287 entries, 0 to 9731\n",
      "Data columns (total 19 columns):\n",
      " #   Column             Non-Null Count  Dtype  \n",
      "---  ------             --------------  -----  \n",
      " 0   Movie_name         4287 non-null   object \n",
      " 1   Adult              4287 non-null   bool   \n",
      " 2   GenreList          4287 non-null   object \n",
      " 3   Budget             4287 non-null   int64  \n",
      " 4   Popularity         4287 non-null   float64\n",
      " 5   VoteAvg            4287 non-null   float64\n",
      " 6   VoteCount          4287 non-null   int64  \n",
      " 7   Overview           4287 non-null   object \n",
      " 8   Tagline            4015 non-null   object \n",
      " 9   Revenue            4287 non-null   int64  \n",
      " 10  Profit             4287 non-null   int64  \n",
      " 11  ReleaseDate        4287 non-null   object \n",
      " 12  Runtime            4287 non-null   float64\n",
      " 13  OriginalLanguage   4287 non-null   object \n",
      " 14  ProductionCompany  4287 non-null   object \n",
      " 15  ProductionCountry  4287 non-null   object \n",
      " 16  SpokenLanguage     4287 non-null   object \n",
      " 17  Year               4287 non-null   int64  \n",
      " 18  Month              4287 non-null   int64  \n",
      "dtypes: bool(1), float64(3), int64(6), object(9)\n",
      "memory usage: 800.5+ KB\n"
     ]
    }
   ],
   "source": [
    "Profit.info()"
   ]
  },
  {
   "cell_type": "code",
   "execution_count": 11,
   "metadata": {},
   "outputs": [
    {
     "data": {
      "text/plain": [
       "Movie_name           4203\n",
       "Adult                   1\n",
       "GenreList            1262\n",
       "Budget                498\n",
       "Popularity           3946\n",
       "VoteAvg                55\n",
       "VoteCount            2768\n",
       "Overview             4287\n",
       "Tagline              4002\n",
       "Revenue              4205\n",
       "Profit               4234\n",
       "ReleaseDate          3236\n",
       "Runtime               145\n",
       "OriginalLanguage       28\n",
       "ProductionCompany    3719\n",
       "ProductionCountry     453\n",
       "SpokenLanguage        554\n",
       "Year                   92\n",
       "Month                  12\n",
       "dtype: int64"
      ]
     },
     "execution_count": 11,
     "metadata": {},
     "output_type": "execute_result"
    }
   ],
   "source": [
    "Profit.nunique()"
   ]
  },
  {
   "cell_type": "code",
   "execution_count": 12,
   "metadata": {},
   "outputs": [
    {
     "ename": "NameError",
     "evalue": "name 'element' is not defined",
     "output_type": "error",
     "traceback": [
      "\u001b[1;31m---------------------------------------------------------------------------\u001b[0m",
      "\u001b[1;31mNameError\u001b[0m                                 Traceback (most recent call last)",
      "\u001b[1;32m<ipython-input-12-3314cc4091c7>\u001b[0m in \u001b[0;36m<module>\u001b[1;34m\u001b[0m\n\u001b[0;32m      1\u001b[0m \u001b[0mLanguages\u001b[0m\u001b[1;33m=\u001b[0m\u001b[1;33m[\u001b[0m\u001b[1;33m]\u001b[0m\u001b[1;33m\u001b[0m\u001b[1;33m\u001b[0m\u001b[0m\n\u001b[0;32m      2\u001b[0m \u001b[1;32mfor\u001b[0m \u001b[0mi\u001b[0m \u001b[1;32min\u001b[0m \u001b[0mrange\u001b[0m\u001b[1;33m(\u001b[0m\u001b[0mlen\u001b[0m\u001b[1;33m(\u001b[0m\u001b[0mProfit\u001b[0m\u001b[1;33m)\u001b[0m\u001b[1;33m)\u001b[0m\u001b[1;33m:\u001b[0m\u001b[1;33m\u001b[0m\u001b[1;33m\u001b[0m\u001b[0m\n\u001b[1;32m----> 3\u001b[1;33m     \u001b[0mLanguages\u001b[0m\u001b[1;33m.\u001b[0m\u001b[0mappend\u001b[0m\u001b[1;33m(\u001b[0m\u001b[0mProfit\u001b[0m\u001b[1;33m.\u001b[0m\u001b[0miloc\u001b[0m\u001b[1;33m[\u001b[0m\u001b[0mi\u001b[0m\u001b[1;33m,\u001b[0m\u001b[1;36m16\u001b[0m\u001b[1;33m]\u001b[0m\u001b[1;33m.\u001b[0m\u001b[0mcount\u001b[0m\u001b[1;33m(\u001b[0m\u001b[0melement\u001b[0m\u001b[1;33m)\u001b[0m\u001b[1;33m)\u001b[0m\u001b[1;33m\u001b[0m\u001b[1;33m\u001b[0m\u001b[0m\n\u001b[0m\u001b[0;32m      4\u001b[0m \u001b[0mprint\u001b[0m\u001b[1;33m(\u001b[0m\u001b[0mLanguages\u001b[0m\u001b[1;33m)\u001b[0m\u001b[1;33m\u001b[0m\u001b[1;33m\u001b[0m\u001b[0m\n",
      "\u001b[1;31mNameError\u001b[0m: name 'element' is not defined"
     ]
    }
   ],
   "source": [
    "Languages=[]\n",
    "for i in range(len(Profit)):\n",
    "    Languages.append(Profit.iloc[i,16].count(element))\n",
    "print(Languages)"
   ]
  },
  {
   "cell_type": "code",
   "execution_count": null,
   "metadata": {},
   "outputs": [],
   "source": [
    "x=Profit['SpokenLanguage'].tolist\n",
    "print(x)"
   ]
  },
  {
   "cell_type": "code",
   "execution_count": null,
   "metadata": {},
   "outputs": [],
   "source": [
    "Profit['SpokenLanguage'].tolist"
   ]
  },
  {
   "cell_type": "code",
   "execution_count": null,
   "metadata": {},
   "outputs": [],
   "source": []
  }
 ],
 "metadata": {
  "kernelspec": {
   "display_name": "Python 3",
   "language": "python",
   "name": "python3"
  },
  "language_info": {
   "codemirror_mode": {
    "name": "ipython",
    "version": 3
   },
   "file_extension": ".py",
   "mimetype": "text/x-python",
   "name": "python",
   "nbconvert_exporter": "python",
   "pygments_lexer": "ipython3",
   "version": "3.7.6"
  }
 },
 "nbformat": 4,
 "nbformat_minor": 2
}
