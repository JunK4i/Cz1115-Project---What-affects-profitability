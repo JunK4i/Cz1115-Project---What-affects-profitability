{
 "cells": [
  {
   "cell_type": "code",
   "execution_count": null,
   "metadata": {},
   "outputs": [],
   "source": [
    "GenreDic = {}\n",
    "ProComDic ={}\n",
    "ProCounDic = {}\n",
    "SpoLangDic = {}\n",
    "for i in range(len(Movie_CleanedData)): #every row in df\n",
    "    for j in range(len(Movie_CleanedData.GenreList[i])): #every element in genrelist\n",
    "        if Movie_CleanedData.GenreList[i][j] not in GenreDic: #if genre is not in dictionary, initialize genre: 1\n",
    "            GenreDic[str(Movie_CleanedData.GenreList[i][j])] = 1\n",
    "        elif Movie_CleanedData.GenreList[i][j] in GenreDic:\n",
    "            GenreDic[str(Movie_CleanedData.GenreList[i][j])] +=1\n",
    "            \n",
    "    for j in range(len(Movie_CleanedData.ProductionCompany[i])): #every element in genrelist\n",
    "        if Movie_CleanedData.ProductionCompany[i][j][0] not in ProComDic: #if genre is not in dictionary, initialize genre: 1\n",
    "            ProComDic[str(Movie_CleanedData.ProductionCompany[i][j][0])] = 1\n",
    "        elif Movie_CleanedData.ProductionCompany[i][j][0] in ProComDic:\n",
    "            ProComDic[str(Movie_CleanedData.ProductionCompany[i][j][0])] +=1\n",
    "    \n",
    "    for j in range(len(Movie_CleanedData.ProductionCountry[i])): #every element in genrelist\n",
    "        if Movie_CleanedData.ProductionCountry[i][j] not in ProCounDic: #if genre is not in dictionary, initialize genre: 1\n",
    "            ProCounDic[str(Movie_CleanedData.ProductionCountry[i][j])] = 1\n",
    "        elif Movie_CleanedData.ProductionCountry[i][j] in ProCounDic:\n",
    "            ProCounDic[str(Movie_CleanedData.ProductionCountry[i][j])] +=1\n",
    "            \n",
    "    for j in range(len(Movie_CleanedData.SpokenLanguage[i])): #every element in genrelist\n",
    "        if Movie_CleanedData.SpokenLanguage[i][j] not in SpoLangDic: #if genre is not in dictionary, initialize genre: 1\n",
    "            SpoLangDic[str(Movie_CleanedData.SpokenLanguage[i][j])] = 1\n",
    "        elif Movie_CleanedData.SpokenLanguage[i][j] in SpoLangDic:\n",
    "            SpoLangDic[str(Movie_CleanedData.SpokenLanguage[i][j])] +=1\n",
    "            \n",
    "\n",
    "\n",
    "# print(GenreDic)\n",
    "# print()\n",
    "# print(ProComDic)\n",
    "# print()\n",
    "# print(ProCounDic)\n",
    "# print()\n",
    "# print(SpoLangDic)    "
   ]
  },
  {
   "cell_type": "code",
   "execution_count": null,
   "metadata": {},
   "outputs": [],
   "source": [
    "GenreData = pd.DataFrame(GenreDic, index = [\"one\"])\n",
    "GenreData = GenreData.T\n",
    "GenreData.reset_index(level=0, inplace=True)\n",
    "GenreData = GenreData.rename(columns={\"index\": \"Genre\", \"one\": \"Count\"})\n",
    "GenreData.head()"
   ]
  },
  {
   "cell_type": "code",
   "execution_count": null,
   "metadata": {},
   "outputs": [],
   "source": [
    "sb.catplot(x = 'Count', y = 'Genre', data = GenreData,kind = 'bar', height = 8)"
   ]
  },
  {
   "cell_type": "code",
   "execution_count": null,
   "metadata": {},
   "outputs": [],
   "source": [
    "ProComData = pd.DataFrame(ProComDic, index = [\"one\"])\n",
    "ProComData = ProComData.T\n",
    "ProComData.reset_index(level=0, inplace=True)\n",
    "ProComData = ProComData.rename(columns={\"index\": \"ProCom\", \"one\": \"Count\"})\n",
    "ProComData.drop(ProComData[ProComData.Count < 20].index, inplace=True)\n",
    "ProComData.info()\n",
    "ProComList = [x for x in ProComData.ProCom]"
   ]
  },
  {
   "cell_type": "code",
   "execution_count": null,
   "metadata": {},
   "outputs": [],
   "source": [
    "# ['Marvel Studios', 'Dune Entertainment', '20th Century Fox', 'Ingenious Media', 'Paramount', 'Lucasfilm Ltd.', 'Amblin Entertainment', 'Legendary Pictures', 'Universal Pictures', 'DENTSU', 'The Kennedy/Marshall Company', 'Walt Disney Pictures', 'Original Film', 'MRC', 'Walt Disney Animation Studios', 'Warner Bros. Pictures', 'Heyday Films', 'Perfect World Pictures', 'Pixar', 'DC Comics', 'DC Entertainment', 'Columbia Pictures', 'Sony Pictures', 'Di Bonaventura Pictures', 'New Line Cinema', 'Danjaq', 'United Artists', 'Eon Productions', 'Metro-Goldwyn-Mayer', 'Village Roadshow Pictures', 'Jerry Bruckheimer Films', 'DreamWorks Pictures', 'DreamWorks Animation', 'CJ Entertainment', 'Regency Enterprises', 'New Regency Pictures', 'RatPac-Dune Entertainment', 'Marvel Entertainment', 'Lionsgate', 'Summit Entertainment', 'Skydance Media', 'Relativity Media', 'TSG Entertainment', 'Imagine Entertainment', 'Walden Media', 'Silver Pictures', 'NPV Entertainment', 'Chernin Entertainment', 'Vertigo Entertainment', 'Spyglass Entertainment', 'Hollywood Pictures', 'Studio Babelsberg', 'Scott Free Productions', 'Fox 2000 Pictures', 'Reliance Entertainment', 'Focus Features', 'Touchstone Pictures', 'Lions Gate Films', 'Malpaso Productions', 'Anonymous Content', 'Plan B Entertainment', 'Toho Company, Ltd.', 'Carolco Pictures', 'TriStar Pictures', 'StudioCanal', 'Dune Entertainment III', 'Epsilon Motion Pictures', 'Nickelodeon Movies', 'Platinum Dunes', 'Huayi Brothers Pictures', 'EuropaCorp', 'Canal+', 'Ciné+', 'TF1 Films Production', 'Working Title Films', 'Gaumont', 'The Weinstein Company', 'UK Film Council', 'FilmNation Entertainment', 'Morgan Creek Productions', 'Film4 Productions', 'PolyGram Filmed Entertainment', 'Davis Entertainment', 'Revolution Studios', 'Constantin Film', 'Fox Searchlight Pictures', 'Lakeshore Entertainment', 'France 2 Cinéma', 'Participant Media', 'Nu Image', 'Millennium Films', 'Screen Gems', 'Davis Films', 'Castle Rock Entertainment', 'UTV Motion Pictures', 'Alcon Entertainment', 'Miramax', 'Phoenix Pictures', 'Apatow Productions', 'Blumhouse Productions', 'Dimension Films', 'Orion Pictures', 'Happy Madison Productions', 'Walt Disney Productions', 'Scott Rudin Productions', 'Annapurna Pictures', 'MTV Films', 'Pathé!', 'American Zoetrope', 'Canal+ España', 'STX Entertainment', 'IM Global', 'France 3 Cinéma', 'EFO Films', 'Film i Väst', 'Wild Bunch', 'Open Road Films', 'BBC Films', 'CNC', 'Yash Raj Films', 'Atresmedia', 'RKO Radio Pictures', 'Cannon Group', 'Golan-Globus Productions']\n"
   ]
  },
  {
   "cell_type": "code",
   "execution_count": null,
   "metadata": {},
   "outputs": [],
   "source": [
    "ProComDup = Movie_CleanedData.iloc[0:1].copy()\n",
    "\n",
    "ProComDup.head()"
   ]
  },
  {
   "cell_type": "code",
   "execution_count": null,
   "metadata": {},
   "outputs": [],
   "source": [
    "# ProComDup = \n",
    "for i in range(len(Movie_CleanedData)): \n",
    "    for j in range(len(Movie_CleanedData.ProductionCompany[i])): \n",
    "        temp = Movie_CleanedData.ProductionCompany[i][j][0]\n",
    "        if temp in ProComList:\n",
    "            replace = Movie_CleanedData.iloc[i:i+1].copy() #create copy of row\n",
    "            replace.ProductionCompany = temp\n",
    "            ProComDup = ProComDup.append(replace, ignore_index=True)\n",
    "        if temp not in ProComList:\n",
    "            replace = Movie_CleanedData.iloc[i:i+1].copy() #create copy of row\n",
    "            replace.ProductionCompany = \"Others\"\n",
    "            ProComDup = ProComDup.append(replace, ignore_index=True)\n",
    "\n"
   ]
  },
  {
   "cell_type": "code",
   "execution_count": null,
   "metadata": {},
   "outputs": [],
   "source": [
    "ProCounData = pd.DataFrame(ProCounDic, index = [\"one\"])\n",
    "ProCounData = ProCounData.T\n",
    "ProCounData.reset_index(level=0, inplace=True)\n",
    "ProCounData = ProCounData.rename(columns={\"index\": \"ProCoun\", \"one\": \"Count\"})\n",
    "ProCounData.head()"
   ]
  },
  {
   "cell_type": "code",
   "execution_count": null,
   "metadata": {},
   "outputs": [],
   "source": [
    "sb.catplot(x = 'Count', y = 'ProCoun', data = ProCounData,kind = 'bar', height = 32)"
   ]
  },
  {
   "cell_type": "code",
   "execution_count": null,
   "metadata": {},
   "outputs": [],
   "source": [
    "SpoLangData = pd.DataFrame(SpoLangDic, index = [\"one\"])\n",
    "SpoLangData = SpoLangData.T\n",
    "SpoLangData.reset_index(level=0, inplace=True)\n",
    "SpoLangData = SpoLangData.rename(columns={\"index\": \"SpoLang\", \"one\": \"Count\"})\n",
    "SpoLangData.head()"
   ]
  },
  {
   "cell_type": "code",
   "execution_count": null,
   "metadata": {},
   "outputs": [],
   "source": [
    "sb.catplot(x = 'Count', y = 'SpoLang', data = SpoLangData,kind = 'bar', height = 32)"
   ]
  },
  {
   "cell_type": "code",
   "execution_count": null,
   "metadata": {},
   "outputs": [],
   "source": [
    "# Distribution of BldgType across MSSubClass\n",
    "f = plt.figure(figsize=(20, 8))\n",
    "sb.heatmap(houseCatData.groupby(['BldgType', 'MSSubClass']).size().unstack(), \n",
    "           linewidths = 1, annot = True, fmt = 'g', annot_kws = {\"size\": 18}, cmap = \"BuGn\")"
   ]
  },
  {
   "cell_type": "code",
   "execution_count": null,
   "metadata": {},
   "outputs": [],
   "source": [
    "sb.catplot(x = 'Count', y = 'ProCom', data = ProComData,kind = 'bar', height = 32)"
   ]
  },
  {
   "cell_type": "code",
   "execution_count": null,
   "metadata": {},
   "outputs": [],
   "source": []
  },
  {
   "cell_type": "code",
   "execution_count": null,
   "metadata": {},
   "outputs": [],
   "source": []
  },
  {
   "cell_type": "code",
   "execution_count": null,
   "metadata": {},
   "outputs": [],
   "source": []
  }
 ],
 "metadata": {
  "kernelspec": {
   "display_name": "Python 3",
   "language": "python",
   "name": "python3"
  },
  "language_info": {
   "codemirror_mode": {
    "name": "ipython",
    "version": 3
   },
   "file_extension": ".py",
   "mimetype": "text/x-python",
   "name": "python",
   "nbconvert_exporter": "python",
   "pygments_lexer": "ipython3",
   "version": "3.7.4"
  }
 },
 "nbformat": 4,
 "nbformat_minor": 2
}
